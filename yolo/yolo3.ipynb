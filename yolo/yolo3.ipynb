{
 "cells": [
  {
   "cell_type": "code",
   "execution_count": 6,
   "metadata": {},
   "outputs": [
    {
     "name": "stdout",
     "output_type": "stream",
     "text": [
      "\n",
      "image 1/1 C:\\Users\\hsing\\OneDrive\\\\5.jpg: 640x320 1 bottle, 61.3ms\n",
      "Speed: 1.3ms preprocess, 61.3ms inference, 0.6ms postprocess per image at shape (1, 3, 640, 320)\n"
     ]
    }
   ],
   "source": [
    "from ultralytics import YOLO\n",
    "\n",
    "model = YOLO(\"yolo11n.pt\")  # initialize model\n",
    "results = model(r\"C:\\Users\\hsing\\OneDrive\\デスクトップ\\5.jpg\")\n",
    "\n",
    "results[0].show()  # display results for the first image"
   ]
  },
  {
   "cell_type": "code",
   "execution_count": 1,
   "metadata": {},
   "outputs": [
    {
     "ename": "ModuleNotFoundError",
     "evalue": "No module named 'kinematics'",
     "output_type": "error",
     "traceback": [
      "\u001b[1;31m---------------------------------------------------------------------------\u001b[0m",
      "\u001b[1;31mModuleNotFoundError\u001b[0m                       Traceback (most recent call last)",
      "Cell \u001b[1;32mIn[1], line 1\u001b[0m\n\u001b[1;32m----> 1\u001b[0m \u001b[38;5;28;01mfrom\u001b[39;00m\u001b[38;5;250m \u001b[39m\u001b[38;5;21;01mkinematics\u001b[39;00m\u001b[38;5;250m \u001b[39m\u001b[38;5;28;01mimport\u001b[39;00m forward_kinematics, plot_robot_forward\n\u001b[0;32m      2\u001b[0m \u001b[38;5;28;01mimport\u001b[39;00m\u001b[38;5;250m \u001b[39m\u001b[38;5;21;01mnumpy\u001b[39;00m\u001b[38;5;250m \u001b[39m\u001b[38;5;28;01mas\u001b[39;00m\u001b[38;5;250m \u001b[39m\u001b[38;5;21;01mnp\u001b[39;00m\n\u001b[0;32m      3\u001b[0m \u001b[38;5;28;01mimport\u001b[39;00m\u001b[38;5;250m \u001b[39m\u001b[38;5;21;01mmatplotlib\u001b[39;00m\u001b[38;5;21;01m.\u001b[39;00m\u001b[38;5;21;01mpyplot\u001b[39;00m\u001b[38;5;250m \u001b[39m\u001b[38;5;28;01mas\u001b[39;00m\u001b[38;5;250m \u001b[39m\u001b[38;5;21;01mplt\u001b[39;00m\n",
      "\u001b[1;31mModuleNotFoundError\u001b[0m: No module named 'kinematics'"
     ]
    }
   ],
   "source": [
    "from kinematics import forward_kinematics, plot_robot_forward\n",
    "import numpy as np\n",
    "import matplotlib.pyplot as plt\n",
    "from mpl_toolkits.mplot3d import Axes3D\n",
    "from ipywidgets import FloatSlider, FloatText, HBox, VBox, interact\n",
    "import ipywidgets as widgets\n",
    "\n",
    "# 定义颜色列表\n",
    "colors = ['r', 'g', 'b', 'y']  # 红色, 绿色, 蓝色, 黄色\n",
    "\n",
    "ultra = np.pi\n",
    "delta = np.pi / 180\n",
    "\n",
    "theta0_slider = FloatSlider(min=-180, max=180, step=1, value=0, description='Theta0')\n",
    "theta1_slider = FloatSlider(min=-180, max=180, step=1, value=0, description='Theta1')\n",
    "theta2_slider = FloatSlider(min=-180, max=180, step=1, value=0, description='Theta2')\n",
    "theta3_slider = FloatSlider(min=-180, max=180, step=1, value=0, description='Theta3')\n",
    "\n",
    "# 将滑块与输入框绑定\n",
    "theta0_input = FloatText(value=0)\n",
    "theta1_input = FloatText(value=0)\n",
    "theta2_input = FloatText(value=0)\n",
    "theta3_input = FloatText(value=0)\n",
    "\n",
    "widgets.jslink((theta0_slider, 'value'), (theta0_input, 'value'))\n",
    "widgets.jslink((theta1_slider, 'value'), (theta1_input, 'value'))\n",
    "widgets.jslink((theta2_slider, 'value'), (theta2_input, 'value'))\n",
    "widgets.jslink((theta3_slider, 'value'), (theta3_input, 'value'))\n",
    "\n",
    "# 创建滑块和输入框的布局\n",
    "theta0_box = HBox([theta0_slider, theta0_input])\n",
    "theta1_box = HBox([theta1_slider, theta1_input])\n",
    "theta2_box = HBox([theta2_slider, theta2_input])\n",
    "theta3_box = HBox([theta3_slider, theta3_input])\n",
    "\n",
    "# 使用 interact 实现交互式更新\n",
    "ui = VBox([theta0_box, theta1_box, theta2_box, theta3_box])\n",
    "\n",
    "def plot_with_colors(theta0, theta1, theta2, theta3):\n",
    "    fig = plt.figure()\n",
    "    ax = fig.add_subplot(111, projection='3d')\n",
    "    \n",
    "    # 获取每个杆的起点和终点坐标\n",
    "    links = plot_robot_forward(theta0, theta1, theta2, theta3)\n",
    "    \n",
    "    # 确保 links 是一个包含每个杆起点和终点坐标的列表\n",
    "    if isinstance(links, list) and all(isinstance(link, tuple) and len(link) == 2 for link in links):\n",
    "        # 绘制每个杆\n",
    "        for i, link in enumerate(links):\n",
    "            start, end = link\n",
    "            ax.plot([start[0], end[0]], [start[1], end[1]], [start[2], end[2]], color=colors[i % len(colors)])\n",
    "    else:\n",
    "        print(\"Error: plot_robot_forward did not return the expected format.\")\n",
    "    \n",
    "    ax.set_xlabel('X')\n",
    "    ax.set_ylabel('Y')\n",
    "    ax.set_zlabel('Z')\n",
    "    plt.show()\n",
    "\n",
    "out = widgets.interactive_output(plot_with_colors, {\n",
    "    'theta0': theta0_slider,\n",
    "    'theta1': theta1_slider,\n",
    "    'theta2': theta2_slider,\n",
    "    'theta3': theta3_slider\n",
    "})\n",
    "\n",
    "# 显示滑块和图形\n",
    "display(ui, out)"
   ]
  }
 ],
 "metadata": {
  "kernelspec": {
   "display_name": "ultralytics-env",
   "language": "python",
   "name": "python3"
  },
  "language_info": {
   "codemirror_mode": {
    "name": "ipython",
    "version": 3
   },
   "file_extension": ".py",
   "mimetype": "text/x-python",
   "name": "python",
   "nbconvert_exporter": "python",
   "pygments_lexer": "ipython3",
   "version": "3.11.11"
  }
 },
 "nbformat": 4,
 "nbformat_minor": 2
}
