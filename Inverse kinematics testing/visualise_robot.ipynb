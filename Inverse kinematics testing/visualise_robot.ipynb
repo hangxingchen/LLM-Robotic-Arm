{
 "cells": [
  {
   "cell_type": "code",
   "execution_count": 1,
   "metadata": {},
   "outputs": [
    {
     "data": {
      "application/vnd.jupyter.widget-view+json": {
       "model_id": "3e534bce7f9148eea803420cd4426388",
       "version_major": 2,
       "version_minor": 0
      },
      "text/plain": [
       "VBox(children=(HBox(children=(FloatSlider(value=0.0, description='Theta0', max=180.0, min=-180.0, step=1.0), F…"
      ]
     },
     "metadata": {},
     "output_type": "display_data"
    },
    {
     "data": {
      "application/vnd.jupyter.widget-view+json": {
       "model_id": "b89bace253d74a65b5ce4332130c231c",
       "version_major": 2,
       "version_minor": 0
      },
      "text/plain": [
       "Output()"
      ]
     },
     "metadata": {},
     "output_type": "display_data"
    }
   ],
   "source": [
    "from kinematics import forward_kinematics,plot_robot_forward\n",
    "import numpy as np\n",
    "import matplotlib.pyplot as plt\n",
    "from mpl_toolkits.mplot3d import Axes3D\n",
    "from ipywidgets import FloatSlider, FloatText, HBox, VBox, interact\n",
    "import ipywidgets as widgets\n",
    "ultra=np.pi\n",
    "delta=np.pi/180\n",
    "theta0_slider = FloatSlider(min=-180, max=180, step=1, value=0, description='Theta0')\n",
    "theta1_slider = FloatSlider(min=-180, max=180, step=1, value=0, description='Theta1')\n",
    "theta2_slider = FloatSlider(min=-180, max=180, step=1,value=0, description='Theta2')\n",
    "theta3_slider = FloatSlider(min=-180, max=180, step=1, value=0, description='Theta3')\n",
    "\n",
    "\n",
    "\n",
    "\n",
    "# 将滑块与输入框绑定\n",
    "theta0_input = FloatText(value=0)\n",
    "theta1_input = FloatText(value=0)\n",
    "theta2_input = FloatText(value=0)\n",
    "theta3_input = FloatText(value=0)\n",
    "\n",
    "widgets.jslink((theta0_slider, 'value'), (theta0_input, 'value'))\n",
    "widgets.jslink((theta1_slider, 'value'), (theta1_input, 'value'))\n",
    "widgets.jslink((theta2_slider, 'value'), (theta2_input, 'value'))\n",
    "widgets.jslink((theta3_slider, 'value'), (theta3_input, 'value'))\n",
    "\n",
    "# 创建滑块和输入框的布局\n",
    "theta0_box = HBox([theta0_slider, theta0_input])\n",
    "theta1_box = HBox([theta1_slider, theta1_input])\n",
    "theta2_box = HBox([theta2_slider, theta2_input])\n",
    "theta3_box = HBox([theta3_slider, theta3_input])\n",
    "\n",
    "# 使用 interact 实现交互式更新\n",
    "ui = VBox([theta0_box, theta1_box, theta2_box, theta3_box])\n",
    "out = widgets.interactive_output(plot_robot_forward, {\n",
    "    'theta0': theta0_slider,\n",
    "    'theta1': theta1_slider,\n",
    "    'theta2': theta2_slider,\n",
    "    'theta3': theta3_slider\n",
    "})\n",
    "\n",
    "\n",
    "\n",
    "\n",
    "\n",
    "\n",
    "# 显示滑块和图形\n",
    "display(ui, out)"
   ]
  },
  {
   "cell_type": "code",
   "execution_count": null,
   "metadata": {},
   "outputs": [
    {
     "data": {
      "application/vnd.jupyter.widget-view+json": {
       "model_id": "4fd0f255bf4441238bf5979caa1a69f3",
       "version_major": 2,
       "version_minor": 0
      },
      "text/plain": [
       "VBox(children=(HBox(children=(FloatSlider(value=0.0, description='Theta0', max=180.0, min=-180.0, step=1.0), F…"
      ]
     },
     "metadata": {},
     "output_type": "display_data"
    },
    {
     "data": {
      "application/vnd.jupyter.widget-view+json": {
       "model_id": "671b852eb837401fb7ce8b8dd6c781f2",
       "version_major": 2,
       "version_minor": 0
      },
      "text/plain": [
       "Output()"
      ]
     },
     "metadata": {},
     "output_type": "display_data"
    }
   ],
   "source": [
    "from kinematics import forward_kinematics,plot_robot_forward\n",
    "import numpy as np\n",
    "import matplotlib.pyplot as plt\n",
    "from mpl_toolkits.mplot3d import Axes3D\n",
    "from ipywidgets import FloatSlider, FloatText, HBox, VBox, interact\n",
    "import ipywidgets as widgets\n",
    "ultra=np.pi\n",
    "delta=np.pi/180\n",
    "theta0_slider = FloatSlider(min=-180, max=180, step=1, value=0, description='Theta0')\n",
    "theta1_slider = FloatSlider(min=-180, max=180, step=1, value=0, description='Theta1')\n",
    "theta2_slider = FloatSlider(min=-180, max=180, step=1,value=0, description='Theta2')\n",
    "theta3_slider = FloatSlider(min=-180, max=180, step=1, value=0, description='Theta3')\n",
    "\n",
    "# 将滑?与?入框?定\n",
    "theta0_input = FloatText(value=0)\n",
    "theta1_input = FloatText(value=0)\n",
    "theta2_input = FloatText(value=0)\n",
    "theta3_input = FloatText(value=0)\n",
    "\n",
    "widgets.jslink((theta0_slider, 'value'), (theta0_input, 'value'))\n",
    "widgets.jslink((theta1_slider, 'value'), (theta1_input, 'value'))\n",
    "widgets.jslink((theta2_slider, 'value'), (theta2_input, 'value'))\n",
    "widgets.jslink((theta3_slider, 'value'), (theta3_input, 'value'))\n",
    "\n",
    "# ?建滑?和?入框的布局\n",
    "theta0_box = HBox([theta0_slider, theta0_input])\n",
    "theta1_box = HBox([theta1_slider, theta1_input])\n",
    "theta2_box = HBox([theta2_slider, theta2_input])\n",
    "theta3_box = HBox([theta3_slider, theta3_input])\n",
    "\n",
    "# 使用 interact ??交互式更新\n",
    "ui = VBox([theta0_box, theta1_box, theta2_box, theta3_box])\n",
    "out = widgets.interactive_output(plot_robot_forward, {\n",
    "    'theta0': theta0_slider,\n",
    "    'theta1': theta1_slider,\n",
    "    'theta2': theta2_slider,\n",
    "    'theta3': theta3_slider\n",
    "})\n",
    "\n",
    "# ?示滑?和?形\n",
    "display(ui, out)"
   ]
  },
  {
   "cell_type": "code",
   "execution_count": null,
   "metadata": {},
   "outputs": [],
   "source": []
  }
 ],
 "metadata": {
  "kernelspec": {
   "display_name": "Python 3",
   "language": "python",
   "name": "python3"
  },
  "language_info": {
   "codemirror_mode": {
    "name": "ipython",
    "version": 3
   },
   "file_extension": ".py",
   "mimetype": "text/x-python",
   "name": "python",
   "nbconvert_exporter": "python",
   "pygments_lexer": "ipython3",
   "version": "3.12.5"
  }
 },
 "nbformat": 4,
 "nbformat_minor": 2
}
